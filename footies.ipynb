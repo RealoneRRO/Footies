{
 "cells": [
  {
   "cell_type": "code",
   "execution_count": 1,
   "id": "f74739c1",
   "metadata": {},
   "outputs": [],
   "source": [
    "import numpy as np\n",
    "import matplotlib.pyplot as plt\n",
    "\n",
    "%matplotlib inline"
   ]
  },
  {
   "cell_type": "code",
   "execution_count": 2,
   "id": "fba24b13",
   "metadata": {},
   "outputs": [
    {
     "name": "stderr",
     "output_type": "stream",
     "text": [
      "2023-11-14 17:11:40.729518: I tensorflow/core/util/util.cc:169] oneDNN custom operations are on. You may see slightly different numerical results due to floating-point round-off errors from different computation orders. To turn them off, set the environment variable `TF_ENABLE_ONEDNN_OPTS=0`.\n"
     ]
    }
   ],
   "source": [
    "import tensorflow as tf\n",
    "from tensorflow import keras"
   ]
  },
  {
   "cell_type": "code",
   "execution_count": 3,
   "id": "1bc23a76",
   "metadata": {},
   "outputs": [],
   "source": [
    "from tensorflow.keras.preprocessing.image import load_img"
   ]
  },
  {
   "cell_type": "code",
   "execution_count": 4,
   "id": "882e4169",
   "metadata": {},
   "outputs": [
    {
     "data": {
      "text/plain": [
       "<function keras.utils.image_utils.load_img(path, grayscale=False, color_mode='rgb', target_size=None, interpolation='nearest', keep_aspect_ratio=False)>"
      ]
     },
     "execution_count": 4,
     "metadata": {},
     "output_type": "execute_result"
    }
   ],
   "source": [
    "load_img"
   ]
  },
  {
   "cell_type": "code",
   "execution_count": 5,
   "id": "6f14a41f",
   "metadata": {},
   "outputs": [
    {
     "data": {
      "image/png": "[encoded data removed]",
      "text/plain": [
       "<PIL.JpegImagePlugin.JpegImageFile image mode=RGB size=136x102>"
      ]
     },
     "execution_count": 5,
     "metadata": {},
     "output_type": "execute_result"
    }
   ],
   "source": [
    "path = './soft-footies-dataset/train/boot'\n",
    "name = 'boot (10).jpg'\n",
    "fullname = path + '/' + name\n",
    "load_img(fullname)"
   ]
  },
  {
   "cell_type": "markdown",
   "id": "5e7d5c56",
   "metadata": {},
   "source": [
    "## Pre-trained convolutional neural networks"
   ]
  },
  {
   "cell_type": "code",
   "execution_count": 6,
   "id": "83bdbc24",
   "metadata": {},
   "outputs": [],
   "source": [
    "from tensorflow.keras.applications.xception import Xception\n",
    "from tensorflow.keras.applications.xception import preprocess_input \n",
    "from tensorflow.keras.applications.xception import decode_predictions"
   ]
  },
  {
   "cell_type": "code",
   "execution_count": 7,
   "id": "04079db0",
   "metadata": {},
   "outputs": [
    {
     "name": "stderr",
     "output_type": "stream",
     "text": [
      "2023-11-14 17:11:43.297104: I tensorflow/stream_executor/cuda/cuda_gpu_executor.cc:975] successful NUMA node read from SysFS had negative value (-1), but there must be at least one NUMA node, so returning NUMA node zero\n",
      "2023-11-14 17:11:43.304462: I tensorflow/stream_executor/cuda/cuda_gpu_executor.cc:975] successful NUMA node read from SysFS had negative value (-1), but there must be at least one NUMA node, so returning NUMA node zero\n",
      "2023-11-14 17:11:43.305123: I tensorflow/stream_executor/cuda/cuda_gpu_executor.cc:975] successful NUMA node read from SysFS had negative value (-1), but there must be at least one NUMA node, so returning NUMA node zero\n",
      "2023-11-14 17:11:43.306048: I tensorflow/core/platform/cpu_feature_guard.cc:193] This TensorFlow binary is optimized with oneAPI Deep Neural Network Library (oneDNN) to use the following CPU instructions in performance-critical operations:  AVX2 AVX512F AVX512_VNNI FMA\n",
      "To enable them in other operations, rebuild TensorFlow with the appropriate compiler flags.\n",
      "2023-11-14 17:11:43.306443: I tensorflow/stream_executor/cuda/cuda_gpu_executor.cc:975] successful NUMA node read from SysFS had negative value (-1), but there must be at least one NUMA node, so returning NUMA node zero\n",
      "2023-11-14 17:11:43.307098: I tensorflow/stream_executor/cuda/cuda_gpu_executor.cc:975] successful NUMA node read from SysFS had negative value (-1), but there must be at least one NUMA node, so returning NUMA node zero\n",
      "2023-11-14 17:11:43.307650: I tensorflow/stream_executor/cuda/cuda_gpu_executor.cc:975] successful NUMA node read from SysFS had negative value (-1), but there must be at least one NUMA node, so returning NUMA node zero\n",
      "2023-11-14 17:11:43.960641: I tensorflow/stream_executor/cuda/cuda_gpu_executor.cc:975] successful NUMA node read from SysFS had negative value (-1), but there must be at least one NUMA node, so returning NUMA node zero\n",
      "2023-11-14 17:11:43.961262: I tensorflow/stream_executor/cuda/cuda_gpu_executor.cc:975] successful NUMA node read from SysFS had negative value (-1), but there must be at least one NUMA node, so returning NUMA node zero\n",
      "2023-11-14 17:11:43.961801: I tensorflow/stream_executor/cuda/cuda_gpu_executor.cc:975] successful NUMA node read from SysFS had negative value (-1), but there must be at least one NUMA node, so returning NUMA node zero\n",
      "2023-11-14 17:11:43.962319: I tensorflow/core/common_runtime/gpu/gpu_device.cc:1532] Created device /job:localhost/replica:0/task:0/device:GPU:0 with 13795 MB memory:  -> device: 0, name: Tesla T4, pci bus id: 0000:00:1e.0, compute capability: 7.5\n"
     ]
    }
   ],
   "source": [
    "model = Xception(weights='imagenet', input_shape=(299, 299, 3))"
   ]
  },
  {
   "cell_type": "code",
   "execution_count": 8,
   "id": "fd62258b",
   "metadata": {},
   "outputs": [],
   "source": [
    "img = load_img(fullname, target_size=(299, 299))"
   ]
  },
  {
   "cell_type": "code",
   "execution_count": 9,
   "id": "fd49031a",
   "metadata": {},
   "outputs": [],
   "source": [
    "x = np.array(img)"
   ]
  },
  {
   "cell_type": "code",
   "execution_count": 10,
   "id": "86180546",
   "metadata": {},
   "outputs": [
    {
     "data": {
      "text/plain": [
       "(299, 299, 3)"
      ]
     },
     "execution_count": 10,
     "metadata": {},
     "output_type": "execute_result"
    }
   ],
   "source": [
    "x = np.array(img)\n",
    "x.shape"
   ]
  },
  {
   "cell_type": "code",
   "execution_count": 11,
   "id": "0f356b65",
   "metadata": {},
   "outputs": [],
   "source": [
    "X = np.array([x])"
   ]
  },
  {
   "cell_type": "code",
   "execution_count": 12,
   "id": "a4c1550f",
   "metadata": {},
   "outputs": [
    {
     "data": {
      "text/plain": [
       "(1, 299, 299, 3)"
      ]
     },
     "execution_count": 12,
     "metadata": {},
     "output_type": "execute_result"
    }
   ],
   "source": [
    "X.shape\n"
   ]
  },
  {
   "cell_type": "code",
   "execution_count": 13,
   "id": "269f62ca",
   "metadata": {},
   "outputs": [],
   "source": [
    "X = preprocess_input(X)"
   ]
  },
  {
   "cell_type": "code",
   "execution_count": 14,
   "id": "021b6d58",
   "metadata": {},
   "outputs": [
    {
     "name": "stderr",
     "output_type": "stream",
     "text": [
      "2023-11-14 17:11:46.790084: I tensorflow/stream_executor/cuda/cuda_dnn.cc:384] Loaded cuDNN version 8100\n",
      "2023-11-14 17:11:47.471458: I tensorflow/core/platform/default/subprocess.cc:304] Start cannot spawn child process: No such file or directory\n",
      "2023-11-14 17:11:47.472102: I tensorflow/core/platform/default/subprocess.cc:304] Start cannot spawn child process: No such file or directory\n",
      "2023-11-14 17:11:47.472145: W tensorflow/stream_executor/gpu/asm_compiler.cc:80] Couldn't get ptxas version string: INTERNAL: Couldn't invoke ptxas --version\n",
      "2023-11-14 17:11:47.472675: I tensorflow/core/platform/default/subprocess.cc:304] Start cannot spawn child process: No such file or directory\n",
      "2023-11-14 17:11:47.472755: W tensorflow/stream_executor/gpu/redzone_allocator.cc:314] INTERNAL: Failed to launch ptxas\n",
      "Relying on driver to perform ptx compilation. \n",
      "Modify $PATH to customize ptxas location.\n",
      "This message will be only logged once.\n"
     ]
    },
    {
     "name": "stdout",
     "output_type": "stream",
     "text": [
      "1/1 [==============================] - 3s 3s/step\n"
     ]
    }
   ],
   "source": [
    "pred = model.predict(X)"
   ]
  },
  {
   "cell_type": "code",
   "execution_count": 15,
   "id": "8ef1aeb4",
   "metadata": {},
   "outputs": [
    {
     "data": {
      "text/plain": [
       "(1, 1000)"
      ]
     },
     "execution_count": 15,
     "metadata": {},
     "output_type": "execute_result"
    }
   ],
   "source": [
    "pred.shape"
   ]
  },
  {
   "cell_type": "code",
   "execution_count": 16,
   "id": "3ba3d4e7",
   "metadata": {},
   "outputs": [
    {
     "data": {
      "text/plain": [
       "array([0.0004317 , 0.00014199, 0.00013171], dtype=float32)"
      ]
     },
     "execution_count": 16,
     "metadata": {},
     "output_type": "execute_result"
    }
   ],
   "source": [
    "pred[0, :3]"
   ]
  },
  {
   "cell_type": "code",
   "execution_count": 17,
   "id": "feeb3387",
   "metadata": {},
   "outputs": [
    {
     "data": {
      "text/plain": [
       "[[('n03124043', 'cowboy_boot', 0.40005696),\n",
       "  ('n03680355', 'Loafer', 0.12027443),\n",
       "  ('n03047690', 'clog', 0.035609502),\n",
       "  ('n04254777', 'sock', 0.027329728),\n",
       "  ('n03026506', 'Christmas_stocking', 0.015539569)]]"
      ]
     },
     "execution_count": 17,
     "metadata": {},
     "output_type": "execute_result"
    }
   ],
   "source": [
    " decode_predictions(pred)"
   ]
  },
  {
   "cell_type": "markdown",
   "id": "dcf85875",
   "metadata": {},
   "source": [
    "## Transfer learning"
   ]
  },
  {
   "cell_type": "markdown",
   "id": "e5b1c4c4",
   "metadata": {},
   "source": [
    "* Instead of loading each image one-by-one, we can use a data generator ImageDataGenerator. Keras will use it for loading the images and pre-processing them\n",
    "* Train Xception on smaller (150 x 150)"
   ]
  },
  {
   "cell_type": "code",
   "execution_count": 18,
   "id": "68bb7461",
   "metadata": {},
   "outputs": [],
   "source": [
    "from tensorflow.keras.preprocessing.image import ImageDataGenerator"
   ]
  },
  {
   "cell_type": "code",
   "execution_count": 19,
   "id": "d6b646b5",
   "metadata": {},
   "outputs": [],
   "source": [
    "train_gen = ImageDataGenerator(preprocessing_function=preprocess_input)"
   ]
  },
  {
   "cell_type": "code",
   "execution_count": 20,
   "id": "03ec1eac",
   "metadata": {},
   "outputs": [],
   "source": [
    "image_size = (299, 299)\n",
    "batch_size = 32"
   ]
  },
  {
   "cell_type": "code",
   "execution_count": 21,
   "id": "5da71856",
   "metadata": {},
   "outputs": [
    {
     "name": "stdout",
     "output_type": "stream",
     "text": [
      "Found 12004 images belonging to 3 classes.\n"
     ]
    }
   ],
   "source": [
    "train_ds = train_gen.flow_from_directory(\n",
    "    \"soft-footies-dataset/train\",\n",
    "    seed=1,\n",
    "    target_size=image_size,\n",
    "    batch_size=batch_size,\n",
    ")"
   ]
  },
  {
   "cell_type": "code",
   "execution_count": 22,
   "id": "fb095eaf",
   "metadata": {},
   "outputs": [],
   "source": [
    "X, y = next(train_ds)"
   ]
  },
  {
   "cell_type": "code",
   "execution_count": 23,
   "id": "f07eb084",
   "metadata": {},
   "outputs": [
    {
     "data": {
      "text/plain": [
       "(32, 299, 299, 3)"
      ]
     },
     "execution_count": 23,
     "metadata": {},
     "output_type": "execute_result"
    }
   ],
   "source": [
    "X.shape"
   ]
  },
  {
   "cell_type": "code",
   "execution_count": 24,
   "id": "b032a440",
   "metadata": {},
   "outputs": [],
   "source": [
    "val_gen = ImageDataGenerator(preprocessing_function=preprocess_input)"
   ]
  },
  {
   "cell_type": "code",
   "execution_count": 25,
   "id": "44a6648b",
   "metadata": {},
   "outputs": [
    {
     "name": "stdout",
     "output_type": "stream",
     "text": [
      "Found 1496 images belonging to 3 classes.\n"
     ]
    }
   ],
   "source": [
    " val_ds = val_gen.flow_from_directory(\n",
    "    \"soft-footies-dataset/validation\",\n",
    "    target_size=image_size,\n",
    "    batch_size=batch_size,\n",
    "     \n",
    ")"
   ]
  },
  {
   "cell_type": "code",
   "execution_count": 26,
   "id": "b9ea7c51",
   "metadata": {},
   "outputs": [],
   "source": [
    "base_model = Xception(\n",
    "    weights='imagenet',\n",
    "    include_top=False,\n",
    "    input_shape=(299, 299, 3)\n",
    "    \n",
    ")\n",
    "\n",
    "base_model.trainable = False "
   ]
  },
  {
   "cell_type": "code",
   "execution_count": 27,
   "id": "df6a9c17",
   "metadata": {},
   "outputs": [],
   "source": [
    "inputs = keras.Input(shape=(299, 299, 3))\n",
    "\n",
    "base = base_model(inputs, training=False)\n",
    "vector = keras.layers.GlobalAveragePooling2D()(base)\n",
    "\n",
    "outputs = keras.layers.Dense(3)(vector)\n",
    "\n",
    "model = keras.Model(inputs, outputs) "
   ]
  },
  {
   "cell_type": "code",
   "execution_count": 28,
   "id": "7ca60f71",
   "metadata": {},
   "outputs": [],
   "source": [
    "learning_rate = 0.01\n",
    "\n",
    "\n",
    "optimizer = keras.optimizers.Adam(learning_rate)\n",
    "\n",
    "loss = keras.losses.CategoricalCrossentropy(from_logits=True)\n",
    "\n",
    "model.compile(\n",
    "    optimizer=optimizer, \n",
    "    loss=loss, \n",
    "    metrics=[\"accuracy\"]\n",
    ")\n"
   ]
  },
  {
   "cell_type": "code",
   "execution_count": 29,
   "id": "3ebcb7a4",
   "metadata": {},
   "outputs": [],
   "source": [
    "# model.fit(train_ds, epochs=10, validation_data=val_ds)"
   ]
  },
  {
   "cell_type": "code",
   "execution_count": 30,
   "id": "7041cc71",
   "metadata": {},
   "outputs": [
    {
     "name": "stdout",
     "output_type": "stream",
     "text": [
      "Epoch 1/10\n",
      "376/376 [==============================] - 95s 243ms/step - loss: 0.1453 - accuracy: 0.9506 - val_loss: 0.1470 - val_accuracy: 0.9465\n",
      "Epoch 2/10\n",
      "376/376 [==============================] - 90s 240ms/step - loss: 0.0766 - accuracy: 0.9738 - val_loss: 0.0956 - val_accuracy: 0.9659\n",
      "Epoch 3/10\n",
      "376/376 [==============================] - 91s 241ms/step - loss: 0.0613 - accuracy: 0.9773 - val_loss: 0.0700 - val_accuracy: 0.9726\n",
      "Epoch 4/10\n",
      "376/376 [==============================] - 91s 241ms/step - loss: 0.0478 - accuracy: 0.9823 - val_loss: 0.0895 - val_accuracy: 0.9679\n",
      "Epoch 5/10\n",
      "376/376 [==============================] - 91s 241ms/step - loss: 0.0412 - accuracy: 0.9853 - val_loss: 0.0880 - val_accuracy: 0.9686\n",
      "Epoch 6/10\n",
      "376/376 [==============================] - 91s 241ms/step - loss: 0.0394 - accuracy: 0.9855 - val_loss: 0.0844 - val_accuracy: 0.9706\n",
      "Epoch 7/10\n",
      "376/376 [==============================] - 91s 241ms/step - loss: 0.0318 - accuracy: 0.9887 - val_loss: 0.1414 - val_accuracy: 0.9586\n",
      "Epoch 8/10\n",
      "376/376 [==============================] - 91s 241ms/step - loss: 0.0271 - accuracy: 0.9913 - val_loss: 0.0998 - val_accuracy: 0.9726\n",
      "Epoch 9/10\n",
      "376/376 [==============================] - 91s 241ms/step - loss: 0.0245 - accuracy: 0.9911 - val_loss: 0.0877 - val_accuracy: 0.9733\n",
      "Epoch 10/10\n",
      "376/376 [==============================] - 91s 241ms/step - loss: 0.0207 - accuracy: 0.9926 - val_loss: 0.1109 - val_accuracy: 0.9679\n"
     ]
    }
   ],
   "source": [
    "history = model.fit(train_ds, epochs=10, validation_data=val_ds)"
   ]
  },
  {
   "cell_type": "code",
   "execution_count": 31,
   "id": "8efa7433",
   "metadata": {},
   "outputs": [
    {
     "data": {
      "text/plain": [
       "<matplotlib.legend.Legend at 0x7f134c18cf70>"
      ]
     },
     "execution_count": 31,
     "metadata": {},
     "output_type": "execute_result"
    },
    {
     "data": {
      "image/png": "[encoded data removed]",
      "text/plain": [
       "<Figure size 640x480 with 1 Axes>"
      ]
     },
     "metadata": {},
     "output_type": "display_data"
    }
   ],
   "source": [
    "plt.plot(history.history['accuracy'], label='train')\n",
    "plt.plot(history.history['val_accuracy'], label='val')\n",
    "plt.xticks(np.arange(10))\n",
    "plt.legend()"
   ]
  },
  {
   "cell_type": "markdown",
   "id": "ded507bc",
   "metadata": {},
   "source": [
    "### Adjusting the learning rate\n",
    "* What's the learning rate\n",
    "* Trying different values and see what best for the model"
   ]
  },
  {
   "cell_type": "code",
   "execution_count": 32,
   "id": "05c24a29",
   "metadata": {},
   "outputs": [],
   "source": [
    "def make_model(learning_rate):\n",
    "    base_model = Xception(\n",
    "    weights='imagenet',\n",
    "    input_shape=(299, 299, 3),\n",
    "    include_top=False\n",
    "    )\n",
    "    \n",
    "    base_model.trainable = False \n",
    "    \n",
    "    #########################################\n",
    "    \n",
    "    inputs = keras.Input(shape=(299, 299, 3))\n",
    "    base = base_model(inputs, training=False)\n",
    "    vector = keras.layers.GlobalAveragePooling2D()(base)\n",
    "    outputs = keras.layers.Dense(3)(vector)\n",
    "    model = keras.Model(inputs, outputs) \n",
    "\n",
    "    #########################################\n",
    "        \n",
    "    optimizer = keras.optimizers.Adam(learning_rate)\n",
    "    loss = keras.losses.CategoricalCrossentropy(from_logits=True)\n",
    "    model.compile(\n",
    "        optimizer=optimizer, \n",
    "        loss=loss, \n",
    "        metrics=['accuracy']\n",
    "    )\n",
    "    \n",
    "    return model"
   ]
  },
  {
   "cell_type": "code",
   "execution_count": 33,
   "id": "b5164993",
   "metadata": {},
   "outputs": [
    {
     "name": "stdout",
     "output_type": "stream",
     "text": [
      "0.0001\n",
      "Epoch 1/10\n",
      "376/376 [==============================] - 94s 243ms/step - loss: 0.5228 - accuracy: 0.8829 - val_loss: 0.4154 - val_accuracy: 0.8583\n",
      "Epoch 2/10\n",
      "376/376 [==============================] - 91s 241ms/step - loss: 0.2693 - accuracy: 0.9295 - val_loss: 0.3111 - val_accuracy: 0.8817\n",
      "Epoch 3/10\n",
      "376/376 [==============================] - 91s 241ms/step - loss: 0.2082 - accuracy: 0.9393 - val_loss: 0.2630 - val_accuracy: 0.8977\n",
      "Epoch 4/10\n",
      "376/376 [==============================] - 91s 241ms/step - loss: 0.1786 - accuracy: 0.9452 - val_loss: 0.2284 - val_accuracy: 0.9158\n",
      "Epoch 5/10\n",
      "376/376 [==============================] - 91s 241ms/step - loss: 0.1604 - accuracy: 0.9500 - val_loss: 0.2050 - val_accuracy: 0.9285\n",
      "Epoch 6/10\n",
      "376/376 [==============================] - 91s 241ms/step - loss: 0.1481 - accuracy: 0.9522 - val_loss: 0.1920 - val_accuracy: 0.9311\n",
      "Epoch 7/10\n",
      "376/376 [==============================] - 91s 241ms/step - loss: 0.1390 - accuracy: 0.9553 - val_loss: 0.1820 - val_accuracy: 0.9332\n",
      "Epoch 8/10\n",
      "376/376 [==============================] - 91s 241ms/step - loss: 0.1317 - accuracy: 0.9573 - val_loss: 0.1717 - val_accuracy: 0.9392\n",
      "Epoch 9/10\n",
      "376/376 [==============================] - 91s 241ms/step - loss: 0.1257 - accuracy: 0.9595 - val_loss: 0.1630 - val_accuracy: 0.9425\n",
      "Epoch 10/10\n",
      "376/376 [==============================] - 91s 241ms/step - loss: 0.1207 - accuracy: 0.9611 - val_loss: 0.1567 - val_accuracy: 0.9425\n",
      "\n",
      "\n",
      "0.001\n",
      "Epoch 1/10\n",
      "376/376 [==============================] - 94s 243ms/step - loss: 0.2169 - accuracy: 0.9292 - val_loss: 0.1647 - val_accuracy: 0.9418\n",
      "Epoch 2/10\n",
      "376/376 [==============================] - 91s 241ms/step - loss: 0.1148 - accuracy: 0.9611 - val_loss: 0.1574 - val_accuracy: 0.9398\n",
      "Epoch 3/10\n",
      "376/376 [==============================] - 91s 241ms/step - loss: 0.0966 - accuracy: 0.9675 - val_loss: 0.1209 - val_accuracy: 0.9532\n",
      "Epoch 4/10\n",
      "376/376 [==============================] - 91s 241ms/step - loss: 0.0845 - accuracy: 0.9722 - val_loss: 0.1062 - val_accuracy: 0.9619\n",
      "Epoch 5/10\n",
      "376/376 [==============================] - 91s 241ms/step - loss: 0.0762 - accuracy: 0.9752 - val_loss: 0.1008 - val_accuracy: 0.9612\n",
      "Epoch 6/10\n",
      "376/376 [==============================] - 91s 241ms/step - loss: 0.0701 - accuracy: 0.9772 - val_loss: 0.0929 - val_accuracy: 0.9666\n",
      "Epoch 7/10\n",
      "376/376 [==============================] - 91s 241ms/step - loss: 0.0644 - accuracy: 0.9793 - val_loss: 0.0935 - val_accuracy: 0.9639\n",
      "Epoch 8/10\n",
      "376/376 [==============================] - 91s 241ms/step - loss: 0.0595 - accuracy: 0.9803 - val_loss: 0.0921 - val_accuracy: 0.9639\n",
      "Epoch 9/10\n",
      "376/376 [==============================] - 91s 241ms/step - loss: 0.0553 - accuracy: 0.9833 - val_loss: 0.0938 - val_accuracy: 0.9646\n",
      "Epoch 10/10\n",
      "376/376 [==============================] - 91s 241ms/step - loss: 0.0521 - accuracy: 0.9838 - val_loss: 0.0855 - val_accuracy: 0.9706\n",
      "\n",
      "\n",
      "0.01\n",
      "Epoch 1/10\n",
      "376/376 [==============================] - 94s 243ms/step - loss: 0.1372 - accuracy: 0.9508 - val_loss: 0.1238 - val_accuracy: 0.9552\n",
      "Epoch 2/10\n",
      "376/376 [==============================] - 91s 241ms/step - loss: 0.0798 - accuracy: 0.9720 - val_loss: 0.0919 - val_accuracy: 0.9686\n",
      "Epoch 3/10\n",
      "376/376 [==============================] - 91s 241ms/step - loss: 0.0631 - accuracy: 0.9761 - val_loss: 0.1229 - val_accuracy: 0.9579\n",
      "Epoch 4/10\n",
      "376/376 [==============================] - 91s 241ms/step - loss: 0.0515 - accuracy: 0.9810 - val_loss: 0.1928 - val_accuracy: 0.9318\n",
      "Epoch 5/10\n",
      "376/376 [==============================] - 91s 241ms/step - loss: 0.0439 - accuracy: 0.9848 - val_loss: 0.0772 - val_accuracy: 0.9733\n",
      "Epoch 6/10\n",
      "376/376 [==============================] - 91s 242ms/step - loss: 0.0327 - accuracy: 0.9880 - val_loss: 0.0748 - val_accuracy: 0.9726\n",
      "Epoch 7/10\n",
      "376/376 [==============================] - 91s 241ms/step - loss: 0.0339 - accuracy: 0.9886 - val_loss: 0.2240 - val_accuracy: 0.9405\n",
      "Epoch 8/10\n",
      "376/376 [==============================] - 91s 241ms/step - loss: 0.0366 - accuracy: 0.9873 - val_loss: 0.0971 - val_accuracy: 0.9699\n",
      "Epoch 9/10\n",
      "376/376 [==============================] - 91s 241ms/step - loss: 0.0181 - accuracy: 0.9949 - val_loss: 0.0690 - val_accuracy: 0.9753\n",
      "Epoch 10/10\n",
      "376/376 [==============================] - 91s 241ms/step - loss: 0.0164 - accuracy: 0.9948 - val_loss: 0.0798 - val_accuracy: 0.9726\n",
      "\n",
      "\n",
      "0.1\n",
      "Epoch 1/10\n",
      "376/376 [==============================] - 94s 244ms/step - loss: 0.6534 - accuracy: 0.9410 - val_loss: 0.7961 - val_accuracy: 0.9479\n",
      "Epoch 2/10\n",
      "376/376 [==============================] - 91s 241ms/step - loss: 0.4839 - accuracy: 0.9628 - val_loss: 0.5571 - val_accuracy: 0.9545\n",
      "Epoch 3/10\n",
      "376/376 [==============================] - 91s 241ms/step - loss: 0.3686 - accuracy: 0.9708 - val_loss: 0.4142 - val_accuracy: 0.9632\n",
      "Epoch 4/10\n",
      "376/376 [==============================] - 91s 241ms/step - loss: 0.4542 - accuracy: 0.9712 - val_loss: 1.0702 - val_accuracy: 0.9425\n",
      "Epoch 5/10\n",
      "376/376 [==============================] - 91s 241ms/step - loss: 0.2754 - accuracy: 0.9768 - val_loss: 0.6871 - val_accuracy: 0.9566\n",
      "Epoch 6/10\n",
      "376/376 [==============================] - 91s 241ms/step - loss: 0.2584 - accuracy: 0.9795 - val_loss: 1.0654 - val_accuracy: 0.9525\n",
      "Epoch 7/10\n",
      "376/376 [==============================] - 91s 241ms/step - loss: 0.2436 - accuracy: 0.9821 - val_loss: 0.8651 - val_accuracy: 0.9599\n",
      "Epoch 8/10\n",
      "376/376 [==============================] - 91s 241ms/step - loss: 0.2015 - accuracy: 0.9829 - val_loss: 0.6363 - val_accuracy: 0.9693\n",
      "Epoch 9/10\n",
      "376/376 [==============================] - 91s 241ms/step - loss: 0.3199 - accuracy: 0.9819 - val_loss: 0.8947 - val_accuracy: 0.9545\n",
      "Epoch 10/10\n",
      "376/376 [==============================] - 91s 241ms/step - loss: 0.2840 - accuracy: 0.9823 - val_loss: 0.5531 - val_accuracy: 0.9733\n",
      "\n",
      "\n"
     ]
    }
   ],
   "source": [
    "scores = {}\n",
    "\n",
    "for lr in [0.0001, 0.001, 0.01, 0.1]:\n",
    "    print(lr)\n",
    "    model = make_model(learning_rate=lr)\n",
    "    history = model.fit(train_ds, epochs=10, validation_data=val_ds)\n",
    "    scores[lr] = history.history\n",
    "    \n",
    "    print()\n",
    "    print()"
   ]
  },
  {
   "cell_type": "markdown",
   "id": "277d0d5e",
   "metadata": {},
   "source": [
    "0.01 is the best learning rate"
   ]
  },
  {
   "cell_type": "code",
   "execution_count": 34,
   "id": "095e213e",
   "metadata": {},
   "outputs": [
    {
     "name": "stdout",
     "output_type": "stream",
     "text": [
      "1/1 [==============================] - 1s 684ms/step\n"
     ]
    }
   ],
   "source": [
    "preds = model.predict(X)\n"
   ]
  },
  {
   "cell_type": "code",
   "execution_count": 35,
   "id": "8390e3c3",
   "metadata": {},
   "outputs": [],
   "source": [
    "del scores[0.001]\n",
    "del scores[0.0001]"
   ]
  },
  {
   "cell_type": "code",
   "execution_count": 36,
   "id": "6bf278ee",
   "metadata": {},
   "outputs": [
    {
     "data": {
      "text/plain": [
       "<matplotlib.legend.Legend at 0x7f13bebe76d0>"
      ]
     },
     "execution_count": 36,
     "metadata": {},
     "output_type": "execute_result"
    },
    {
     "data": {
      "image/png": "[encoded data removed]",
      "text/plain": [
       "<Figure size 640x480 with 1 Axes>"
      ]
     },
     "metadata": {},
     "output_type": "display_data"
    }
   ],
   "source": [
    "for lr, hist in scores.items():\n",
    "    \n",
    "    #plt.plot(hist['accuracy'], label='train=%s' % lr)\n",
    "    plt.plot(hist['val_accuracy'], label=('val=%s' % lr))\n",
    "    \n",
    "plt.xticks(np.arange(10))\n",
    "plt.legend()"
   ]
  },
  {
   "cell_type": "markdown",
   "id": "7839f471",
   "metadata": {},
   "source": [
    "#best learning_rate is 0.01"
   ]
  },
  {
   "cell_type": "markdown",
   "id": "c2b54b72",
   "metadata": {},
   "source": [
    "# Checkpointing\n",
    "* saving the best model only\n",
    "* Training a model with callbacks"
   ]
  },
  {
   "cell_type": "code",
   "execution_count": 37,
   "id": "200fce62",
   "metadata": {},
   "outputs": [],
   "source": [
    "model.save_weights('model_v1.h5', save_format='h5')"
   ]
  },
  {
   "cell_type": "code",
   "execution_count": 38,
   "id": "7af7aed2",
   "metadata": {},
   "outputs": [],
   "source": [
    "checkpoint = keras.callbacks.ModelCheckpoint(\n",
    "    \"xception_v1_{epoch:02d}_{val_accuracy:.3f}.h5\",\n",
    "    save_best_only=True,\n",
    "    monitor=\"val_accuracy\",   \n",
    ")"
   ]
  },
  {
   "cell_type": "code",
   "execution_count": 39,
   "id": "df138a72",
   "metadata": {},
   "outputs": [
    {
     "name": "stdout",
     "output_type": "stream",
     "text": [
      "Epoch 1/10\n",
      "376/376 [==============================] - 94s 244ms/step - loss: 0.1292 - accuracy: 0.9533 - val_loss: 0.1302 - val_accuracy: 0.9532\n",
      "Epoch 2/10\n",
      "376/376 [==============================] - 91s 242ms/step - loss: 0.0770 - accuracy: 0.9728 - val_loss: 0.1253 - val_accuracy: 0.9572\n",
      "Epoch 3/10\n",
      "376/376 [==============================] - 91s 242ms/step - loss: 0.0575 - accuracy: 0.9798 - val_loss: 0.0926 - val_accuracy: 0.9659\n",
      "Epoch 4/10\n",
      "376/376 [==============================] - 91s 242ms/step - loss: 0.0465 - accuracy: 0.9840 - val_loss: 0.1579 - val_accuracy: 0.9459\n",
      "Epoch 5/10\n",
      "376/376 [==============================] - 91s 242ms/step - loss: 0.0360 - accuracy: 0.9878 - val_loss: 0.0825 - val_accuracy: 0.9719\n",
      "Epoch 6/10\n",
      "376/376 [==============================] - 91s 241ms/step - loss: 0.0373 - accuracy: 0.9865 - val_loss: 0.0731 - val_accuracy: 0.9719\n",
      "Epoch 7/10\n",
      "376/376 [==============================] - 91s 242ms/step - loss: 0.0328 - accuracy: 0.9889 - val_loss: 0.0696 - val_accuracy: 0.9766\n",
      "Epoch 8/10\n",
      "376/376 [==============================] - 91s 241ms/step - loss: 0.0257 - accuracy: 0.9910 - val_loss: 0.0705 - val_accuracy: 0.9753\n",
      "Epoch 9/10\n",
      "376/376 [==============================] - 91s 242ms/step - loss: 0.0229 - accuracy: 0.9914 - val_loss: 0.0881 - val_accuracy: 0.9733\n",
      "Epoch 10/10\n",
      "376/376 [==============================] - 91s 241ms/step - loss: 0.0192 - accuracy: 0.9938 - val_loss: 0.0803 - val_accuracy: 0.9753\n"
     ]
    },
    {
     "data": {
      "text/plain": [
       "<keras.callbacks.History at 0x7f134c3d3a00>"
      ]
     },
     "execution_count": 39,
     "metadata": {},
     "output_type": "execute_result"
    }
   ],
   "source": [
    "learning_rate = 0.01\n",
    "\n",
    "model = make_model(learning_rate=learning_rate)\n",
    "\n",
    "model.fit(\n",
    "    train_ds, \n",
    "    epochs=10, \n",
    "    validation_data=val_ds, \n",
    "    callbacks=[checkpoint]\n",
    ")"
   ]
  },
  {
   "cell_type": "markdown",
   "id": "a8d916da",
   "metadata": {},
   "source": [
    "# Adding more layers"
   ]
  },
  {
   "cell_type": "code",
   "execution_count": null,
   "id": "a3519149",
   "metadata": {},
   "outputs": [],
   "source": []
  },
  {
   "cell_type": "code",
   "execution_count": 40,
   "id": "0c4d40e3",
   "metadata": {},
   "outputs": [],
   "source": [
    "def make_model(learning_rate=0.01, size_inner=100):\n",
    "    base_model = Xception(\n",
    "    weights='imagenet',\n",
    "    input_shape=(299, 299, 3),\n",
    "    include_top=False\n",
    "    )\n",
    "    base_model.trainable = False \n",
    "    \n",
    "    #########################################\n",
    "    \n",
    "    inputs = keras.Input(shape=(299, 299, 3))\n",
    "    base = base_model(inputs, training=False)\n",
    "    vector = keras.layers.GlobalAveragePooling2D()(base)\n",
    "    inner = keras.layers.Dense(100, activation='relu')(vector)\n",
    "    outputs = keras.layers.Dense(3)(inner)\n",
    "    model = keras.Model(inputs, outputs) \n",
    "\n",
    "    #########################################\n",
    "        \n",
    "    optimizer = keras.optimizers.Adam(learning_rate=learning_rate)\n",
    "    loss = keras.losses.CategoricalCrossentropy(from_logits=True)\n",
    "    model.compile(\n",
    "        optimizer=optimizer, \n",
    "        loss=loss, \n",
    "        metrics=['accuracy']\n",
    "    )\n",
    "    return model\n"
   ]
  },
  {
   "cell_type": "code",
   "execution_count": 41,
   "id": "428f730d",
   "metadata": {},
   "outputs": [
    {
     "name": "stdout",
     "output_type": "stream",
     "text": [
      "10\n",
      "Epoch 1/10\n",
      "376/376 [==============================] - 94s 243ms/step - loss: 0.1489 - accuracy: 0.9470 - val_loss: 0.1378 - val_accuracy: 0.9492\n",
      "Epoch 2/10\n",
      "376/376 [==============================] - 91s 241ms/step - loss: 0.0866 - accuracy: 0.9698 - val_loss: 0.1567 - val_accuracy: 0.9452\n",
      "Epoch 3/10\n",
      "376/376 [==============================] - 91s 241ms/step - loss: 0.0668 - accuracy: 0.9769 - val_loss: 0.1054 - val_accuracy: 0.9652\n",
      "Epoch 4/10\n",
      "376/376 [==============================] - 91s 242ms/step - loss: 0.0533 - accuracy: 0.9813 - val_loss: 0.0799 - val_accuracy: 0.9693\n",
      "Epoch 5/10\n",
      "376/376 [==============================] - 91s 241ms/step - loss: 0.0430 - accuracy: 0.9854 - val_loss: 0.1299 - val_accuracy: 0.9626\n",
      "Epoch 6/10\n",
      "376/376 [==============================] - 91s 242ms/step - loss: 0.0425 - accuracy: 0.9855 - val_loss: 0.1031 - val_accuracy: 0.9733\n",
      "Epoch 7/10\n",
      "376/376 [==============================] - 91s 241ms/step - loss: 0.0394 - accuracy: 0.9862 - val_loss: 0.1256 - val_accuracy: 0.9672\n",
      "Epoch 8/10\n",
      "376/376 [==============================] - 91s 241ms/step - loss: 0.0320 - accuracy: 0.9895 - val_loss: 0.0754 - val_accuracy: 0.9746\n",
      "Epoch 9/10\n",
      "376/376 [==============================] - 91s 241ms/step - loss: 0.0342 - accuracy: 0.9882 - val_loss: 0.0954 - val_accuracy: 0.9726\n",
      "Epoch 10/10\n",
      "376/376 [==============================] - 91s 241ms/step - loss: 0.0261 - accuracy: 0.9909 - val_loss: 0.0788 - val_accuracy: 0.9753\n",
      "\n",
      "\n",
      "100\n",
      "Epoch 1/10\n",
      "376/376 [==============================] - 93s 243ms/step - loss: 0.1401 - accuracy: 0.9514 - val_loss: 0.1540 - val_accuracy: 0.9418\n",
      "Epoch 2/10\n",
      "376/376 [==============================] - 91s 241ms/step - loss: 0.0887 - accuracy: 0.9700 - val_loss: 0.1615 - val_accuracy: 0.9472\n",
      "Epoch 3/10\n",
      "376/376 [==============================] - 91s 241ms/step - loss: 0.0626 - accuracy: 0.9765 - val_loss: 0.0690 - val_accuracy: 0.9726\n",
      "Epoch 4/10\n",
      "376/376 [==============================] - 91s 241ms/step - loss: 0.0581 - accuracy: 0.9806 - val_loss: 0.1686 - val_accuracy: 0.9572\n",
      "Epoch 5/10\n",
      "376/376 [==============================] - 91s 241ms/step - loss: 0.0487 - accuracy: 0.9834 - val_loss: 0.1492 - val_accuracy: 0.9606\n",
      "Epoch 6/10\n",
      "376/376 [==============================] - 91s 241ms/step - loss: 0.0454 - accuracy: 0.9843 - val_loss: 0.1084 - val_accuracy: 0.9646\n",
      "Epoch 7/10\n",
      "376/376 [==============================] - 91s 241ms/step - loss: 0.0310 - accuracy: 0.9887 - val_loss: 0.0902 - val_accuracy: 0.9713\n",
      "Epoch 8/10\n",
      "376/376 [==============================] - 91s 242ms/step - loss: 0.0317 - accuracy: 0.9893 - val_loss: 0.1847 - val_accuracy: 0.9572\n",
      "Epoch 9/10\n",
      "376/376 [==============================] - 91s 241ms/step - loss: 0.0287 - accuracy: 0.9905 - val_loss: 0.1077 - val_accuracy: 0.9726\n",
      "Epoch 10/10\n",
      "376/376 [==============================] - 91s 241ms/step - loss: 0.0182 - accuracy: 0.9935 - val_loss: 0.1074 - val_accuracy: 0.9786\n",
      "\n",
      "\n",
      "1000\n",
      "Epoch 1/10\n",
      "376/376 [==============================] - 94s 243ms/step - loss: 0.1483 - accuracy: 0.9504 - val_loss: 0.1469 - val_accuracy: 0.9445\n",
      "Epoch 2/10\n",
      "376/376 [==============================] - 91s 241ms/step - loss: 0.0838 - accuracy: 0.9701 - val_loss: 0.1028 - val_accuracy: 0.9646\n",
      "Epoch 3/10\n",
      "376/376 [==============================] - 91s 241ms/step - loss: 0.0739 - accuracy: 0.9726 - val_loss: 0.1671 - val_accuracy: 0.9512\n",
      "Epoch 4/10\n",
      "376/376 [==============================] - 91s 242ms/step - loss: 0.0545 - accuracy: 0.9805 - val_loss: 0.0940 - val_accuracy: 0.9666\n",
      "Epoch 5/10\n",
      "376/376 [==============================] - 91s 241ms/step - loss: 0.0482 - accuracy: 0.9839 - val_loss: 0.0977 - val_accuracy: 0.9666\n",
      "Epoch 6/10\n",
      "376/376 [==============================] - 90s 241ms/step - loss: 0.0370 - accuracy: 0.9852 - val_loss: 0.0821 - val_accuracy: 0.9733\n",
      "Epoch 7/10\n",
      "376/376 [==============================] - 91s 241ms/step - loss: 0.0371 - accuracy: 0.9869 - val_loss: 0.1135 - val_accuracy: 0.9679\n",
      "Epoch 8/10\n",
      "376/376 [==============================] - 91s 241ms/step - loss: 0.0299 - accuracy: 0.9888 - val_loss: 0.1344 - val_accuracy: 0.9639\n",
      "Epoch 9/10\n",
      "376/376 [==============================] - 91s 241ms/step - loss: 0.0296 - accuracy: 0.9889 - val_loss: 0.0930 - val_accuracy: 0.9746\n",
      "Epoch 10/10\n",
      "376/376 [==============================] - 91s 241ms/step - loss: 0.0213 - accuracy: 0.9923 - val_loss: 0.1373 - val_accuracy: 0.9686\n",
      "\n",
      "\n"
     ]
    }
   ],
   "source": [
    "learning_rate = 0.01\n",
    "\n",
    "scores = {}  \n",
    "\n",
    "for size in [10, 100, 1000]:\n",
    "    print(size)\n",
    "    \n",
    "    model = make_model(learning_rate=learning_rate, size_inner=size)\n",
    "    history = model.fit(train_ds, epochs=10, validation_data=val_ds)\n",
    "    scores[size] = history.history\n",
    "    \n",
    "    print()\n",
    "    print()"
   ]
  },
  {
   "cell_type": "code",
   "execution_count": 42,
   "id": "ae49becb",
   "metadata": {},
   "outputs": [
    {
     "data": {
      "text/plain": [
       "<matplotlib.legend.Legend at 0x7f132a1169a0>"
      ]
     },
     "execution_count": 42,
     "metadata": {},
     "output_type": "execute_result"
    },
    {
     "data": {
      "image/png": "[encoded data removed]",
      "text/plain": [
       "<Figure size 640x480 with 1 Axes>"
      ]
     },
     "metadata": {},
     "output_type": "display_data"
    }
   ],
   "source": [
    "for size, hist in scores.items():\n",
    "    \n",
    "    #plt.plot(hist['accuracy'], label='train=%s' % lr)\n",
    "    plt.plot(hist['val_accuracy'], label=('val=%s' % size))\n",
    "    \n",
    "plt.xticks(np.arange(10))\n",
    "plt.yticks([0.90, 0.92, 0.94, 0.95, 0.98])\n",
    "plt.legend()"
   ]
  },
  {
   "cell_type": "markdown",
   "id": "1d5a345d",
   "metadata": {},
   "source": [
    "# Regularization and Dropout\n",
    "* Regularizing by freezing a part of the network\n",
    "* Adding dropout to our model\n",
    "* Experimenting with different values"
   ]
  },
  {
   "cell_type": "code",
   "execution_count": 43,
   "id": "61aad3f7",
   "metadata": {},
   "outputs": [],
   "source": [
    "def make_model(learning_rate=0.01, size_inner=100, droprate=0.5):\n",
    "    base_model = Xception(\n",
    "    weights='imagenet',\n",
    "    input_shape=(299, 299, 3),\n",
    "    include_top=False\n",
    "    )\n",
    "    base_model.trainable = False \n",
    "    \n",
    "    #########################################\n",
    "    \n",
    "    inputs = keras.Input(shape=(299, 299, 3))\n",
    "    base = base_model(inputs, training=False)\n",
    "    vector = keras.layers.GlobalAveragePooling2D()(base)\n",
    "    \n",
    "    inner = keras.layers.Dense(100, activation='relu')(vector)\n",
    "    drop = keras.layers.Dense(droprate)(inner)\n",
    "    outputs = keras.layers.Dense(3)(drop)\n",
    "    \n",
    "    model = keras.Model(inputs, outputs) \n",
    "\n",
    "    #########################################\n",
    "        \n",
    "    optimizer = keras.optimizers.Adam(learning_rate=learning_rate)\n",
    "    loss = keras.losses.CategoricalCrossentropy(from_logits=True)\n",
    "    \n",
    "    model.compile(\n",
    "        optimizer=optimizer, \n",
    "        loss=loss, \n",
    "        metrics=[\"accuracy\"]\n",
    "    )\n",
    "    \n",
    "    return model"
   ]
  },
  {
   "cell_type": "code",
   "execution_count": 44,
   "id": "c617f238",
   "metadata": {},
   "outputs": [
    {
     "name": "stdout",
     "output_type": "stream",
     "text": [
      "0.0\n",
      "Epoch 1/10\n",
      "376/376 [==============================] - 94s 243ms/step - loss: 1.0994 - accuracy: 0.3337 - val_loss: 1.0991 - val_accuracy: 0.3316\n",
      "Epoch 2/10\n",
      "376/376 [==============================] - 91s 242ms/step - loss: 1.0993 - accuracy: 0.3282 - val_loss: 1.0989 - val_accuracy: 0.3342\n",
      "Epoch 3/10\n",
      "376/376 [==============================] - 91s 241ms/step - loss: 1.0995 - accuracy: 0.3316 - val_loss: 1.0986 - val_accuracy: 0.3342\n",
      "Epoch 4/10\n",
      "376/376 [==============================] - 91s 242ms/step - loss: 1.0991 - accuracy: 0.3311 - val_loss: 1.1005 - val_accuracy: 0.3342\n",
      "Epoch 5/10\n",
      "376/376 [==============================] - 91s 242ms/step - loss: 1.0993 - accuracy: 0.3297 - val_loss: 1.0986 - val_accuracy: 0.3342\n",
      "Epoch 6/10\n",
      "376/376 [==============================] - 91s 241ms/step - loss: 1.0991 - accuracy: 0.3360 - val_loss: 1.0993 - val_accuracy: 0.3342\n",
      "Epoch 7/10\n",
      "376/376 [==============================] - 91s 242ms/step - loss: 1.0992 - accuracy: 0.3332 - val_loss: 1.0991 - val_accuracy: 0.3342\n",
      "Epoch 8/10\n",
      "376/376 [==============================] - 91s 241ms/step - loss: 1.0990 - accuracy: 0.3387 - val_loss: 1.0994 - val_accuracy: 0.3342\n",
      "Epoch 9/10\n",
      "376/376 [==============================] - 91s 241ms/step - loss: 1.0995 - accuracy: 0.3245 - val_loss: 1.0987 - val_accuracy: 0.3342\n",
      "Epoch 10/10\n",
      "376/376 [==============================] - 91s 242ms/step - loss: 1.0991 - accuracy: 0.3346 - val_loss: 1.0996 - val_accuracy: 0.3316\n",
      "\n",
      "\n",
      "0.2\n",
      "Epoch 1/10\n",
      "376/376 [==============================] - 94s 243ms/step - loss: 1.0994 - accuracy: 0.3300 - val_loss: 1.0987 - val_accuracy: 0.3316\n",
      "Epoch 2/10\n",
      "376/376 [==============================] - 91s 241ms/step - loss: 1.0995 - accuracy: 0.3306 - val_loss: 1.0996 - val_accuracy: 0.3316\n",
      "Epoch 3/10\n",
      "376/376 [==============================] - 91s 241ms/step - loss: 1.0993 - accuracy: 0.3375 - val_loss: 1.0992 - val_accuracy: 0.3342\n",
      "Epoch 4/10\n",
      "376/376 [==============================] - 91s 242ms/step - loss: 1.0994 - accuracy: 0.3286 - val_loss: 1.0987 - val_accuracy: 0.3342\n",
      "Epoch 5/10\n",
      "376/376 [==============================] - 91s 241ms/step - loss: 1.0994 - accuracy: 0.3286 - val_loss: 1.0988 - val_accuracy: 0.3342\n",
      "Epoch 6/10\n",
      "376/376 [==============================] - 91s 241ms/step - loss: 1.0992 - accuracy: 0.3292 - val_loss: 1.1006 - val_accuracy: 0.3342\n",
      "Epoch 7/10\n",
      "376/376 [==============================] - 91s 242ms/step - loss: 1.0995 - accuracy: 0.3236 - val_loss: 1.0991 - val_accuracy: 0.3316\n",
      "Epoch 8/10\n",
      "376/376 [==============================] - 91s 242ms/step - loss: 1.0991 - accuracy: 0.3364 - val_loss: 1.0998 - val_accuracy: 0.3316\n",
      "Epoch 9/10\n",
      "376/376 [==============================] - 91s 242ms/step - loss: 1.0993 - accuracy: 0.3297 - val_loss: 1.0986 - val_accuracy: 0.3342\n",
      "Epoch 10/10\n",
      "376/376 [==============================] - 91s 241ms/step - loss: 1.0993 - accuracy: 0.3306 - val_loss: 1.0989 - val_accuracy: 0.3342\n",
      "\n",
      "\n",
      "0.5\n",
      "Epoch 1/10\n",
      "376/376 [==============================] - 94s 244ms/step - loss: 1.0994 - accuracy: 0.3279 - val_loss: 1.0999 - val_accuracy: 0.3342\n",
      "Epoch 2/10\n",
      "376/376 [==============================] - 91s 241ms/step - loss: 1.0992 - accuracy: 0.3383 - val_loss: 1.0999 - val_accuracy: 0.3342\n",
      "Epoch 3/10\n",
      "376/376 [==============================] - 91s 242ms/step - loss: 1.0990 - accuracy: 0.3424 - val_loss: 1.1011 - val_accuracy: 0.3316\n",
      "Epoch 4/10\n",
      "376/376 [==============================] - 91s 241ms/step - loss: 1.0992 - accuracy: 0.3378 - val_loss: 1.0990 - val_accuracy: 0.3316\n",
      "Epoch 5/10\n",
      "376/376 [==============================] - 91s 241ms/step - loss: 1.0994 - accuracy: 0.3301 - val_loss: 1.0986 - val_accuracy: 0.3342\n",
      "Epoch 6/10\n",
      "376/376 [==============================] - 91s 241ms/step - loss: 1.0993 - accuracy: 0.3326 - val_loss: 1.0992 - val_accuracy: 0.3342\n",
      "Epoch 7/10\n",
      "376/376 [==============================] - 91s 242ms/step - loss: 1.0991 - accuracy: 0.3380 - val_loss: 1.0988 - val_accuracy: 0.3342\n",
      "Epoch 8/10\n",
      "376/376 [==============================] - 91s 242ms/step - loss: 1.0996 - accuracy: 0.3266 - val_loss: 1.0987 - val_accuracy: 0.3342\n",
      "Epoch 9/10\n",
      "376/376 [==============================] - 91s 241ms/step - loss: 1.0993 - accuracy: 0.3336 - val_loss: 1.1001 - val_accuracy: 0.3342\n",
      "Epoch 10/10\n",
      "376/376 [==============================] - 91s 241ms/step - loss: 1.0992 - accuracy: 0.3392 - val_loss: 1.1000 - val_accuracy: 0.3316\n",
      "\n",
      "\n"
     ]
    }
   ],
   "source": [
    "learning_rate = 0.01\n",
    "size = 100\n",
    "\n",
    "scores = {}  \n",
    "\n",
    "for droprate in [0.0, 0.2, 0.5]:\n",
    "    print(droprate)\n",
    "    \n",
    "    model = make_model(\n",
    "        learning_rate=learning_rate, \n",
    "        size_inner=size,\n",
    "        droprate=droprate\n",
    "    )\n",
    "    \n",
    "    history = model.fit(\n",
    "        train_ds, epochs=10, \n",
    "        validation_data=val_ds)\n",
    "    scores[droprate] = history.history\n",
    "    \n",
    "    print()\n",
    "    print()"
   ]
  },
  {
   "cell_type": "code",
   "execution_count": 45,
   "id": "214cfdd3",
   "metadata": {},
   "outputs": [
    {
     "data": {
      "text/plain": [
       "<matplotlib.legend.Legend at 0x7f0f843c00a0>"
      ]
     },
     "execution_count": 45,
     "metadata": {},
     "output_type": "execute_result"
    },
    {
     "data": {
      "image/png": "[encoded data removed]",
      "text/plain": [
       "<Figure size 640x480 with 1 Axes>"
      ]
     },
     "metadata": {},
     "output_type": "display_data"
    }
   ],
   "source": [
    "for droprate, hist in scores.items():\n",
    "    \n",
    "    #plt.plot(hist['accuracy'], label='train=%s' % lr)\n",
    "    plt.plot(hist['val_accuracy'], label=('val=%s' % droprate))\n",
    "    \n",
    "plt.xticks(np.arange(10))\n",
    "plt.legend()"
   ]
  },
  {
   "cell_type": "code",
   "execution_count": 46,
   "id": "a9048f36",
   "metadata": {},
   "outputs": [
    {
     "data": {
      "text/plain": [
       "<matplotlib.legend.Legend at 0x7f0f8421b460>"
      ]
     },
     "execution_count": 46,
     "metadata": {},
     "output_type": "execute_result"
    },
    {
     "data": {
      "image/png": "[encoded data removed]",
      "text/plain": [
       "<Figure size 640x480 with 1 Axes>"
      ]
     },
     "metadata": {},
     "output_type": "display_data"
    }
   ],
   "source": [
    "hist = scores[0.0]\n",
    "    #plt.plot(hist['accuracy'], label='train=%s' % lr)\n",
    "plt.plot(hist['val_accuracy'], label=0.0)\n",
    "    \n",
    "hist = scores[0.2]\n",
    "    #plt.plot(hist['accuracy'], label='train=%s' % lr)\n",
    "plt.plot(hist['val_accuracy'], label=0.2)\n",
    "\n",
    "hist = scores[0.5]\n",
    "    #plt.plot(hist['accuracy'], label='train=%s' % lr)\n",
    "plt.plot(hist['val_accuracy'], label=0.5)\n",
    "\n",
    "plt.legend()"
   ]
  },
  {
   "cell_type": "markdown",
   "id": "7c87f09f",
   "metadata": {},
   "source": [
    "# Data augmentation"
   ]
  },
  {
   "cell_type": "code",
   "execution_count": 47,
   "id": "1fabbd48",
   "metadata": {},
   "outputs": [
    {
     "name": "stdout",
     "output_type": "stream",
     "text": [
      "Found 12004 images belonging to 3 classes.\n",
      "Found 1496 images belonging to 3 classes.\n"
     ]
    }
   ],
   "source": [
    "train_gen = ImageDataGenerator(\n",
    "    shear_range=10.0,\n",
    "    zoom_range=0.1,\n",
    "    horizontal_flip=True,\n",
    "    preprocessing_function=preprocess_input\n",
    ")\n",
    "\n",
    "train_ds = train_gen.flow_from_directory(\n",
    "    \"soft-footies-dataset/train\",\n",
    "    target_size=(299, 299),\n",
    "    batch_size=32\n",
    ")\n",
    "\n",
    "val_gen = ImageDataGenerator(preprocessing_function=preprocess_input)\n",
    "\n",
    "val_ds = train_gen.flow_from_directory(\n",
    "    \"soft-footies-dataset/validation\",\n",
    "    target_size=(299, 299),\n",
    "    batch_size=32\n",
    ")"
   ]
  },
  {
   "cell_type": "code",
   "execution_count": 48,
   "id": "1ec9ea87",
   "metadata": {},
   "outputs": [
    {
     "name": "stdout",
     "output_type": "stream",
     "text": [
      "Epoch 1/30\n",
      "376/376 [==============================] - 222s 585ms/step - loss: 1.0992 - accuracy: 0.3313 - val_loss: 1.0988 - val_accuracy: 0.3342\n",
      "Epoch 2/30\n",
      "376/376 [==============================] - 221s 588ms/step - loss: 1.0993 - accuracy: 0.3362 - val_loss: 1.0996 - val_accuracy: 0.3342\n",
      "Epoch 3/30\n",
      "376/376 [==============================] - 219s 581ms/step - loss: 1.0992 - accuracy: 0.3291 - val_loss: 1.0986 - val_accuracy: 0.3316\n",
      "Epoch 4/30\n",
      "376/376 [==============================] - 222s 590ms/step - loss: 1.0995 - accuracy: 0.3240 - val_loss: 1.0988 - val_accuracy: 0.3342\n",
      "Epoch 5/30\n",
      "376/376 [==============================] - 221s 587ms/step - loss: 1.0995 - accuracy: 0.3237 - val_loss: 1.0988 - val_accuracy: 0.3342\n",
      "Epoch 6/30\n",
      "376/376 [==============================] - 221s 588ms/step - loss: 1.0991 - accuracy: 0.3334 - val_loss: 1.0990 - val_accuracy: 0.3316\n",
      "Epoch 7/30\n",
      "376/376 [==============================] - 221s 587ms/step - loss: 1.0994 - accuracy: 0.3291 - val_loss: 1.0988 - val_accuracy: 0.3342\n",
      "Epoch 8/30\n",
      "376/376 [==============================] - 219s 581ms/step - loss: 1.0991 - accuracy: 0.3311 - val_loss: 1.0989 - val_accuracy: 0.3316\n",
      "Epoch 9/30\n",
      "376/376 [==============================] - 222s 590ms/step - loss: 1.0994 - accuracy: 0.3318 - val_loss: 1.0990 - val_accuracy: 0.3342\n",
      "Epoch 10/30\n",
      "376/376 [==============================] - 221s 587ms/step - loss: 1.0994 - accuracy: 0.3325 - val_loss: 1.0990 - val_accuracy: 0.3342\n",
      "Epoch 11/30\n",
      "376/376 [==============================] - 224s 594ms/step - loss: 1.0995 - accuracy: 0.3328 - val_loss: 1.0988 - val_accuracy: 0.3316\n",
      "Epoch 12/30\n",
      "376/376 [==============================] - 223s 592ms/step - loss: 1.0995 - accuracy: 0.3285 - val_loss: 1.0992 - val_accuracy: 0.3316\n",
      "Epoch 13/30\n",
      "376/376 [==============================] - 224s 595ms/step - loss: 1.0994 - accuracy: 0.3235 - val_loss: 1.0991 - val_accuracy: 0.3316\n",
      "Epoch 14/30\n",
      "376/376 [==============================] - 226s 601ms/step - loss: 1.0995 - accuracy: 0.3264 - val_loss: 1.0989 - val_accuracy: 0.3316\n",
      "Epoch 15/30\n",
      "376/376 [==============================] - 226s 600ms/step - loss: 1.0993 - accuracy: 0.3336 - val_loss: 1.1002 - val_accuracy: 0.3342\n",
      "Epoch 16/30\n",
      "376/376 [==============================] - 224s 597ms/step - loss: 1.0995 - accuracy: 0.3282 - val_loss: 1.0988 - val_accuracy: 0.3316\n",
      "Epoch 17/30\n",
      "376/376 [==============================] - 221s 586ms/step - loss: 1.0992 - accuracy: 0.3332 - val_loss: 1.0987 - val_accuracy: 0.3342\n",
      "Epoch 18/30\n",
      "376/376 [==============================] - 224s 595ms/step - loss: 1.0993 - accuracy: 0.3281 - val_loss: 1.0990 - val_accuracy: 0.3342\n",
      "Epoch 19/30\n",
      "376/376 [==============================] - 222s 590ms/step - loss: 1.0992 - accuracy: 0.3361 - val_loss: 1.0989 - val_accuracy: 0.3342\n",
      "Epoch 20/30\n",
      "376/376 [==============================] - 225s 599ms/step - loss: 1.0992 - accuracy: 0.3354 - val_loss: 1.0987 - val_accuracy: 0.3342\n",
      "Epoch 21/30\n",
      "376/376 [==============================] - 220s 585ms/step - loss: 1.0994 - accuracy: 0.3353 - val_loss: 1.0991 - val_accuracy: 0.3316\n",
      "Epoch 22/30\n",
      "376/376 [==============================] - 220s 585ms/step - loss: 1.0993 - accuracy: 0.3295 - val_loss: 1.0989 - val_accuracy: 0.3342\n",
      "Epoch 23/30\n",
      "376/376 [==============================] - 224s 595ms/step - loss: 1.0995 - accuracy: 0.3351 - val_loss: 1.0990 - val_accuracy: 0.3316\n",
      "Epoch 24/30\n",
      "376/376 [==============================] - 223s 592ms/step - loss: 1.0994 - accuracy: 0.3331 - val_loss: 1.0992 - val_accuracy: 0.3316\n",
      "Epoch 25/30\n",
      "376/376 [==============================] - 223s 591ms/step - loss: 1.0990 - accuracy: 0.3372 - val_loss: 1.0987 - val_accuracy: 0.3342\n",
      "Epoch 26/30\n",
      "376/376 [==============================] - 218s 579ms/step - loss: 1.0991 - accuracy: 0.3327 - val_loss: 1.0998 - val_accuracy: 0.3316\n",
      "Epoch 27/30\n",
      "376/376 [==============================] - 222s 590ms/step - loss: 1.0991 - accuracy: 0.3376 - val_loss: 1.0989 - val_accuracy: 0.3342\n",
      "Epoch 28/30\n",
      "376/376 [==============================] - 219s 583ms/step - loss: 1.0990 - accuracy: 0.3434 - val_loss: 1.0996 - val_accuracy: 0.3342\n",
      "Epoch 29/30\n",
      "376/376 [==============================] - 224s 596ms/step - loss: 1.0993 - accuracy: 0.3293 - val_loss: 1.0988 - val_accuracy: 0.3342\n",
      "Epoch 30/30\n",
      "376/376 [==============================] - 223s 594ms/step - loss: 1.0993 - accuracy: 0.3318 - val_loss: 1.0991 - val_accuracy: 0.3342\n"
     ]
    }
   ],
   "source": [
    "learning_rate = 0.01\n",
    "size = 100\n",
    "droprate = 0.2\n",
    "\n",
    "model = make_model(\n",
    "        learning_rate=learning_rate, \n",
    "        size_inner=size,\n",
    "        droprate=droprate\n",
    ")\n",
    "    \n",
    "history = model.fit(\n",
    "        train_ds, epochs=30, \n",
    "        validation_data=val_ds)  "
   ]
  },
  {
   "cell_type": "code",
   "execution_count": 49,
   "id": "7f0a3b24",
   "metadata": {},
   "outputs": [
    {
     "data": {
      "text/plain": [
       "<matplotlib.legend.Legend at 0x7f134c646f70>"
      ]
     },
     "execution_count": 49,
     "metadata": {},
     "output_type": "execute_result"
    },
    {
     "data": {
      "image/png": "[encoded data removed]",
      "text/plain": [
       "<Figure size 640x480 with 1 Axes>"
      ]
     },
     "metadata": {},
     "output_type": "display_data"
    }
   ],
   "source": [
    "hist = history.history\n",
    "plt.plot(hist['val_accuracy'], label='val')\n",
    "plt.plot(hist['accuracy'], label='train')\n",
    "    \n",
    "\n",
    "plt.legend()"
   ]
  },
  {
   "cell_type": "markdown",
   "id": "3b924c22",
   "metadata": {},
   "source": [
    "# Training a Larger Model\n",
    "* Train 299 x 299 size"
   ]
  },
  {
   "cell_type": "code",
   "execution_count": 50,
   "id": "24a368ae",
   "metadata": {},
   "outputs": [],
   "source": [
    "def make_model(input_size=299, learning_rate=0.01, size_inner=100, droprate=0.5):\n",
    "    base_model = Xception(\n",
    "    weights='imagenet',\n",
    "    input_shape=(input_size, input_size, 3),\n",
    "    include_top=False\n",
    "    )\n",
    "    \n",
    "    base_model.trainable = False \n",
    "    \n",
    "    #########################################\n",
    "    \n",
    "    inputs = keras.Input(shape=(input_size, input_size, 3))\n",
    "    base = base_model(inputs, training=False)\n",
    "    vectors = keras.layers.GlobalAveragePooling2D()(base)\n",
    "    inner = keras.layers.Dense(size_inner, activation='relu')(vectors)\n",
    "    drop = keras.layers.Dense(droprate)(inner)\n",
    "    outputs = keras.layers.Dense(3)(drop)\n",
    "    model = keras.Model(inputs, outputs) \n",
    "\n",
    "    #########################################\n",
    "        \n",
    "    optimizer = keras.optimizers.Adam(learning_rate=learning_rate)\n",
    "    loss = keras.losses.CategoricalCrossentropy(from_logits=True)\n",
    "    \n",
    "    model.compile(\n",
    "        optimizer=optimizer, \n",
    "        loss=loss, \n",
    "        metrics=['accuracy']\n",
    "    )\n",
    "    \n",
    "    return model"
   ]
  },
  {
   "cell_type": "code",
   "execution_count": 51,
   "id": "69e56ca7",
   "metadata": {},
   "outputs": [],
   "source": [
    "input_size=299"
   ]
  },
  {
   "cell_type": "code",
   "execution_count": 52,
   "id": "94481f7c",
   "metadata": {},
   "outputs": [
    {
     "name": "stdout",
     "output_type": "stream",
     "text": [
      "Found 12004 images belonging to 3 classes.\n",
      "Found 1496 images belonging to 3 classes.\n"
     ]
    }
   ],
   "source": [
    "train_gen = ImageDataGenerator(\n",
    "    preprocessing_function=preprocess_input,\n",
    "    #shear_range=10.0,\n",
    "    #zoom_range=0.1,\n",
    "    #horizontal_flip=True \n",
    "     \n",
    ")\n",
    "\n",
    "train_ds = train_gen.flow_from_directory(\n",
    "    \"soft-footies-dataset/train\",\n",
    "    target_size=(input_size, input_size),\n",
    "    batch_size=32\n",
    ")\n",
    "\n",
    "val_gen = ImageDataGenerator(preprocessing_function=preprocess_input)\n",
    "\n",
    "val_ds = train_gen.flow_from_directory(\n",
    "    \"soft-footies-dataset/validation\",\n",
    "    target_size=(input_size, input_size),\n",
    "    batch_size=32,\n",
    "    shuffle=False\n",
    ")\n"
   ]
  },
  {
   "cell_type": "code",
   "execution_count": 53,
   "id": "fc8155d1",
   "metadata": {},
   "outputs": [],
   "source": [
    "checkpoint = keras.callbacks.ModelCheckpoint(\n",
    "    \"xception_v4_1_{epoch:02d}_{val_accuracy:.3f}.h5\",\n",
    "    monitor=\"val_accuracy\",\n",
    "    save_best_only=True,\n",
    "    mode='max'\n",
    ")"
   ]
  },
  {
   "cell_type": "code",
   "execution_count": 54,
   "id": "26368427",
   "metadata": {},
   "outputs": [
    {
     "name": "stdout",
     "output_type": "stream",
     "text": [
      "Epoch 1/50\n",
      "376/376 [==============================] - 93s 242ms/step - loss: 1.0992 - accuracy: 0.3336 - val_loss: 1.1005 - val_accuracy: 0.3316\n",
      "Epoch 2/50\n",
      "376/376 [==============================] - 91s 241ms/step - loss: 1.0993 - accuracy: 0.3360 - val_loss: 1.0994 - val_accuracy: 0.3342\n",
      "Epoch 3/50\n",
      "376/376 [==============================] - 91s 241ms/step - loss: 1.0994 - accuracy: 0.3250 - val_loss: 1.0998 - val_accuracy: 0.3316\n",
      "Epoch 4/50\n",
      "376/376 [==============================] - 91s 242ms/step - loss: 1.0991 - accuracy: 0.3381 - val_loss: 1.1002 - val_accuracy: 0.3316\n",
      "Epoch 5/50\n",
      "376/376 [==============================] - 91s 241ms/step - loss: 1.0995 - accuracy: 0.3261 - val_loss: 1.0988 - val_accuracy: 0.3316\n",
      "Epoch 6/50\n",
      "376/376 [==============================] - 91s 242ms/step - loss: 1.0994 - accuracy: 0.3307 - val_loss: 1.0996 - val_accuracy: 0.3342\n",
      "Epoch 7/50\n",
      "376/376 [==============================] - 91s 241ms/step - loss: 1.0993 - accuracy: 0.3316 - val_loss: 1.0988 - val_accuracy: 0.3342\n",
      "Epoch 8/50\n",
      "376/376 [==============================] - 91s 241ms/step - loss: 1.0994 - accuracy: 0.3342 - val_loss: 1.0995 - val_accuracy: 0.3342\n",
      "Epoch 9/50\n",
      "376/376 [==============================] - 91s 242ms/step - loss: 1.0991 - accuracy: 0.3331 - val_loss: 1.0997 - val_accuracy: 0.3316\n",
      "Epoch 10/50\n",
      "376/376 [==============================] - 91s 241ms/step - loss: 1.0993 - accuracy: 0.3280 - val_loss: 1.0990 - val_accuracy: 0.3342\n",
      "Epoch 11/50\n",
      "376/376 [==============================] - 91s 241ms/step - loss: 1.0992 - accuracy: 0.3359 - val_loss: 1.0986 - val_accuracy: 0.3342\n",
      "Epoch 12/50\n",
      "376/376 [==============================] - 91s 241ms/step - loss: 1.0991 - accuracy: 0.3315 - val_loss: 1.0996 - val_accuracy: 0.3316\n",
      "Epoch 13/50\n",
      "376/376 [==============================] - 91s 241ms/step - loss: 1.0993 - accuracy: 0.3321 - val_loss: 1.0988 - val_accuracy: 0.3316\n",
      "Epoch 14/50\n",
      "376/376 [==============================] - 91s 241ms/step - loss: 1.0996 - accuracy: 0.3266 - val_loss: 1.0987 - val_accuracy: 0.3316\n",
      "Epoch 15/50\n",
      "376/376 [==============================] - 91s 241ms/step - loss: 1.0992 - accuracy: 0.3323 - val_loss: 1.0987 - val_accuracy: 0.3342\n",
      "Epoch 16/50\n",
      "376/376 [==============================] - 91s 241ms/step - loss: 1.0995 - accuracy: 0.3286 - val_loss: 1.0987 - val_accuracy: 0.3342\n",
      "Epoch 17/50\n",
      "376/376 [==============================] - 91s 241ms/step - loss: 1.0993 - accuracy: 0.3327 - val_loss: 1.0995 - val_accuracy: 0.3316\n",
      "Epoch 18/50\n",
      "376/376 [==============================] - 91s 242ms/step - loss: 1.0994 - accuracy: 0.3291 - val_loss: 1.0986 - val_accuracy: 0.3342\n",
      "Epoch 19/50\n",
      "376/376 [==============================] - 91s 241ms/step - loss: 1.0992 - accuracy: 0.3330 - val_loss: 1.0996 - val_accuracy: 0.3316\n",
      "Epoch 20/50\n",
      "376/376 [==============================] - 91s 241ms/step - loss: 1.0992 - accuracy: 0.3288 - val_loss: 1.0988 - val_accuracy: 0.3342\n",
      "Epoch 21/50\n",
      "376/376 [==============================] - 91s 242ms/step - loss: 1.0995 - accuracy: 0.3287 - val_loss: 1.0994 - val_accuracy: 0.3316\n",
      "Epoch 22/50\n",
      "376/376 [==============================] - 91s 241ms/step - loss: 1.0994 - accuracy: 0.3344 - val_loss: 1.0987 - val_accuracy: 0.3342\n",
      "Epoch 23/50\n",
      "376/376 [==============================] - 91s 241ms/step - loss: 1.0993 - accuracy: 0.3287 - val_loss: 1.0988 - val_accuracy: 0.3342\n",
      "Epoch 24/50\n",
      "376/376 [==============================] - 91s 241ms/step - loss: 1.0994 - accuracy: 0.3313 - val_loss: 1.0999 - val_accuracy: 0.3342\n",
      "Epoch 25/50\n",
      "376/376 [==============================] - 90s 241ms/step - loss: 1.0994 - accuracy: 0.3249 - val_loss: 1.0986 - val_accuracy: 0.3342\n",
      "Epoch 26/50\n",
      "376/376 [==============================] - 91s 241ms/step - loss: 1.0994 - accuracy: 0.3221 - val_loss: 1.0989 - val_accuracy: 0.3342\n",
      "Epoch 27/50\n",
      "376/376 [==============================] - 91s 241ms/step - loss: 1.0992 - accuracy: 0.3347 - val_loss: 1.0988 - val_accuracy: 0.3316\n",
      "Epoch 28/50\n",
      "376/376 [==============================] - 91s 241ms/step - loss: 1.0993 - accuracy: 0.3321 - val_loss: 1.0998 - val_accuracy: 0.3342\n",
      "Epoch 29/50\n",
      "376/376 [==============================] - 91s 241ms/step - loss: 1.0994 - accuracy: 0.3301 - val_loss: 1.0997 - val_accuracy: 0.3342\n",
      "Epoch 30/50\n",
      "376/376 [==============================] - 91s 241ms/step - loss: 1.0993 - accuracy: 0.3351 - val_loss: 1.0988 - val_accuracy: 0.3342\n",
      "Epoch 31/50\n",
      "376/376 [==============================] - 91s 241ms/step - loss: 1.0994 - accuracy: 0.3379 - val_loss: 1.0990 - val_accuracy: 0.3316\n",
      "Epoch 32/50\n",
      "376/376 [==============================] - 91s 241ms/step - loss: 1.0995 - accuracy: 0.3302 - val_loss: 1.0997 - val_accuracy: 0.3316\n",
      "Epoch 33/50\n",
      "376/376 [==============================] - 91s 241ms/step - loss: 1.0996 - accuracy: 0.3317 - val_loss: 1.0986 - val_accuracy: 0.3316\n",
      "Epoch 34/50\n",
      "376/376 [==============================] - 90s 240ms/step - loss: 1.0996 - accuracy: 0.3342 - val_loss: 1.0993 - val_accuracy: 0.3316\n",
      "Epoch 35/50\n",
      "376/376 [==============================] - 91s 241ms/step - loss: 1.0994 - accuracy: 0.3381 - val_loss: 1.0990 - val_accuracy: 0.3342\n",
      "Epoch 36/50\n",
      "376/376 [==============================] - 91s 241ms/step - loss: 1.0990 - accuracy: 0.3392 - val_loss: 1.0989 - val_accuracy: 0.3316\n",
      "Epoch 37/50\n",
      "376/376 [==============================] - 91s 241ms/step - loss: 1.0994 - accuracy: 0.3306 - val_loss: 1.0986 - val_accuracy: 0.3342\n",
      "Epoch 38/50\n",
      "376/376 [==============================] - 90s 240ms/step - loss: 1.0991 - accuracy: 0.3256 - val_loss: 1.1001 - val_accuracy: 0.3342\n",
      "Epoch 39/50\n",
      "376/376 [==============================] - 91s 241ms/step - loss: 1.0993 - accuracy: 0.3329 - val_loss: 1.0990 - val_accuracy: 0.3342\n",
      "Epoch 40/50\n",
      "376/376 [==============================] - 91s 241ms/step - loss: 1.0995 - accuracy: 0.3284 - val_loss: 1.0988 - val_accuracy: 0.3316\n",
      "Epoch 41/50\n",
      "376/376 [==============================] - 91s 241ms/step - loss: 1.0992 - accuracy: 0.3346 - val_loss: 1.0992 - val_accuracy: 0.3342\n",
      "Epoch 42/50\n",
      "376/376 [==============================] - 91s 241ms/step - loss: 1.0993 - accuracy: 0.3261 - val_loss: 1.0992 - val_accuracy: 0.3316\n",
      "Epoch 43/50\n",
      "376/376 [==============================] - 91s 241ms/step - loss: 1.0992 - accuracy: 0.3345 - val_loss: 1.0990 - val_accuracy: 0.3342\n",
      "Epoch 44/50\n",
      "376/376 [==============================] - 91s 241ms/step - loss: 1.0992 - accuracy: 0.3332 - val_loss: 1.0989 - val_accuracy: 0.3342\n",
      "Epoch 45/50\n",
      "376/376 [==============================] - 91s 241ms/step - loss: 1.0994 - accuracy: 0.3297 - val_loss: 1.0994 - val_accuracy: 0.3342\n",
      "Epoch 46/50\n",
      "376/376 [==============================] - 91s 241ms/step - loss: 1.0995 - accuracy: 0.3264 - val_loss: 1.0990 - val_accuracy: 0.3342\n",
      "Epoch 47/50\n",
      "376/376 [==============================] - 91s 241ms/step - loss: 1.0992 - accuracy: 0.3331 - val_loss: 1.0989 - val_accuracy: 0.3342\n",
      "Epoch 48/50\n",
      "376/376 [==============================] - 91s 241ms/step - loss: 1.0992 - accuracy: 0.3323 - val_loss: 1.0989 - val_accuracy: 0.3342\n",
      "Epoch 49/50\n",
      "376/376 [==============================] - 91s 241ms/step - loss: 1.0991 - accuracy: 0.3339 - val_loss: 1.0990 - val_accuracy: 0.3342\n",
      "Epoch 50/50\n",
      "376/376 [==============================] - 91s 241ms/step - loss: 1.0992 - accuracy: 0.3320 - val_loss: 1.0989 - val_accuracy: 0.3316\n"
     ]
    }
   ],
   "source": [
    "learning_rate = 0.01\n",
    "size = 100\n",
    "droprate = 0.2\n",
    "input_size = 299\n",
    "\n",
    "model = make_model(\n",
    "        input_size=299,\n",
    "        learning_rate=learning_rate, \n",
    "        size_inner=size,\n",
    "        droprate=droprate\n",
    ")\n",
    "    \n",
    "history = model.fit(\n",
    "        train_ds, epochs=50, \n",
    "        validation_data=val_ds, callbacks=[checkpoint])  "
   ]
  },
  {
   "cell_type": "markdown",
   "id": "d7498269",
   "metadata": {},
   "source": [
    "# Using the model\n",
    "* load the model\n",
    "* evaluate the model\n",
    "* Getting prediction"
   ]
  },
  {
   "cell_type": "code",
   "execution_count": 55,
   "id": "01acbe6a",
   "metadata": {},
   "outputs": [],
   "source": [
    "import tensorflow as tf\n",
    "from tensorflow import keras\n"
   ]
  },
  {
   "cell_type": "code",
   "execution_count": 83,
   "id": "48d462f4",
   "metadata": {},
   "outputs": [],
   "source": [
    "model = keras.models.load_model('xception_v1_07_0.977.h5')"
   ]
  },
  {
   "cell_type": "code",
   "execution_count": 84,
   "id": "c6188feb",
   "metadata": {},
   "outputs": [],
   "source": [
    "from tensorflow.keras.preprocessing.image import ImageDataGenerator\n",
    "from tensorflow.keras.applications.xception import preprocess_input\n",
    "from tensorflow.keras.preprocessing.image import load_img"
   ]
  },
  {
   "cell_type": "code",
   "execution_count": 85,
   "id": "cf1826b4",
   "metadata": {},
   "outputs": [
    {
     "name": "stdout",
     "output_type": "stream",
     "text": [
      "Found 1500 images belonging to 3 classes.\n"
     ]
    }
   ],
   "source": [
    "test_gen = ImageDataGenerator(preprocessing_function=preprocess_input)\n",
    "\n",
    "test_ds = test_gen.flow_from_directory(\n",
    "    './soft-footies-dataset/test', \n",
    "    target_size=(299, 299), \n",
    "    batch_size=32, \n",
    "    shuffle=False\n",
    ")"
   ]
  },
  {
   "cell_type": "code",
   "execution_count": 86,
   "id": "0b8c8f76",
   "metadata": {},
   "outputs": [
    {
     "name": "stdout",
     "output_type": "stream",
     "text": [
      "47/47 [==============================] - 11s 210ms/step - loss: 0.0663 - accuracy: 0.9780\n"
     ]
    },
    {
     "data": {
      "text/plain": [
       "[0.06631571799516678, 0.9779999852180481]"
      ]
     },
     "execution_count": 86,
     "metadata": {},
     "output_type": "execute_result"
    }
   ],
   "source": [
    "model.evaluate(test_ds) "
   ]
  },
  {
   "cell_type": "code",
   "execution_count": 119,
   "id": "6f63ac5c",
   "metadata": {},
   "outputs": [],
   "source": [
    "path = 'soft-footies-dataset/test/shoe/Shoe (100).jpg'"
   ]
  },
  {
   "cell_type": "code",
   "execution_count": 120,
   "id": "3aefb555",
   "metadata": {},
   "outputs": [],
   "source": [
    "img = load_img(path, target_size=(299, 299))"
   ]
  },
  {
   "cell_type": "code",
   "execution_count": 121,
   "id": "34da621c",
   "metadata": {},
   "outputs": [],
   "source": [
    "import numpy as np"
   ]
  },
  {
   "cell_type": "code",
   "execution_count": 122,
   "id": "b399fc2b",
   "metadata": {},
   "outputs": [
    {
     "data": {
      "text/plain": [
       "(1, 299, 299, 3)"
      ]
     },
     "execution_count": 122,
     "metadata": {},
     "output_type": "execute_result"
    }
   ],
   "source": [
    "x = np.array(img)\n",
    "X = np.array([x])\n",
    "X.shape  "
   ]
  },
  {
   "cell_type": "code",
   "execution_count": 123,
   "id": "84d48212",
   "metadata": {},
   "outputs": [],
   "source": [
    "X = preprocess_input(X)"
   ]
  },
  {
   "cell_type": "code",
   "execution_count": 124,
   "id": "0f0ee648",
   "metadata": {},
   "outputs": [
    {
     "name": "stdout",
     "output_type": "stream",
     "text": [
      "1/1 [==============================] - 0s 28ms/step\n"
     ]
    }
   ],
   "source": [
    "pred = model.predict(X)"
   ]
  },
  {
   "cell_type": "code",
   "execution_count": 125,
   "id": "1e809f02",
   "metadata": {},
   "outputs": [],
   "source": [
    "classes = [\n",
    "    'boot', \n",
    "    'sandal',\n",
    "    'shoe' \n",
    "]"
   ]
  },
  {
   "cell_type": "code",
   "execution_count": 126,
   "id": "666e527f",
   "metadata": {},
   "outputs": [
    {
     "data": {
      "text/plain": [
       "{'boot': -8.185767, 'sandal': -3.757629, 'shoe': 6.2832055}"
      ]
     },
     "execution_count": 126,
     "metadata": {},
     "output_type": "execute_result"
    }
   ],
   "source": [
    "dict(zip(classes, pred[0]))"
   ]
  },
  {
   "cell_type": "markdown",
   "id": "485543da",
   "metadata": {},
   "source": [
    "predicted correctly"
   ]
  },
  {
   "cell_type": "code",
   "execution_count": null,
   "id": "77d720ff",
   "metadata": {},
   "outputs": [],
   "source": []
  }
 ],
 "metadata": {
  "kernelspec": {
   "display_name": "saturn (Python 3)",
   "language": "python",
   "name": "python3"
  },
  "language_info": {
   "codemirror_mode": {
    "name": "ipython",
    "version": 3
   },
   "file_extension": ".py",
   "mimetype": "text/x-python",
   "name": "python",
   "nbconvert_exporter": "python",
   "pygments_lexer": "ipython3",
   "version": "3.9.13"
  }
 },
 "nbformat": 4,
 "nbformat_minor": 5
}
